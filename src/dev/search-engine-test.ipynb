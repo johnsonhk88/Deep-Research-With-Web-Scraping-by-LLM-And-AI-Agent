{
 "cells": [
  {
   "cell_type": "markdown",
   "metadata": {},
   "source": [
    "## This notebook is try to implement and test different Search engine for obtain list of URL by keyword searching"
   ]
  },
  {
   "cell_type": "code",
   "execution_count": 1,
   "metadata": {},
   "outputs": [],
   "source": [
    "!pip3 install -qU duckduckgo-search"
   ]
  },
  {
   "cell_type": "markdown",
   "metadata": {},
   "source": [
    "## USe DuckDuckGo Search Engine Obtain URL"
   ]
  },
  {
   "cell_type": "code",
   "execution_count": 1,
   "metadata": {},
   "outputs": [],
   "source": [
    "from langchain_community.tools import DuckDuckGoSearchRun, DuckDuckGoSearchResults\n",
    "from langchain_community.utilities import DuckDuckGoSearchAPIWrapper\n",
    "import json\n",
    "from IPython.display import display, HTML, Markdown"
   ]
  },
  {
   "cell_type": "code",
   "execution_count": 2,
   "metadata": {},
   "outputs": [
    {
     "name": "stderr",
     "output_type": "stream",
     "text": [
      "/home/johnsonhk88/.local/lib/python3.10/site-packages/langchain_community/utilities/duckduckgo_search.py:64: UserWarning: backend='api' is deprecated, using backend='auto'\n",
      "  ddgs_gen = ddgs.text(\n"
     ]
    }
   ],
   "source": [
    "searchDuck = DuckDuckGoSearchRun()\n",
    "rst = searchDuck.invoke(\"Hong kong Weather\")"
   ]
  },
  {
   "cell_type": "code",
   "execution_count": 3,
   "metadata": {},
   "outputs": [
    {
     "data": {
      "text/plain": [
       "'Live weather reports from Hong Kong weather stations and weather warnings that include risk of thunder, high UV index and forecast gales. See the links below the 12-day Hong Kong weather forecast table for other cities and towns nearby along with weather conditions for local outdoor activities. In Hong Kong, for the rest of Friday, a primarily cloudless sky is expected. The lowest forecasted temperature is a moderate 14°C (57.2°F). Sunrise was at 07:02 and sunset at 17:53; the daylight lasted for 10h and 51min. Hong Kong Weather Forecasts. Weather Underground provides local & long-range weather forecasts, weatherreports, maps & tropical weather conditions for the Hong Kong area. Hong Kong - Weather forecast from Theweather.com. Weather conditions with updates on temperature, humidity, wind speed, snow, pressure, etc. for Hong Kong, Hong Kong In Hong Kong, currently, the weather is characterized by fair conditions. The temperature is a mild 15°C (59°F), while the feels-like temperature is a similar 14°C (57.2°F).'"
      ]
     },
     "execution_count": 3,
     "metadata": {},
     "output_type": "execute_result"
    }
   ],
   "source": [
    "rst"
   ]
  },
  {
   "cell_type": "code",
   "execution_count": 41,
   "metadata": {},
   "outputs": [],
   "source": [
    "wrapper = DuckDuckGoSearchAPIWrapper(region=\"hk-tzh\", time=\"y\", max_results=4)"
   ]
  },
  {
   "cell_type": "code",
   "execution_count": 53,
   "metadata": {},
   "outputs": [
    {
     "name": "stderr",
     "output_type": "stream",
     "text": [
      "/home/johnsonhk88/.local/lib/python3.10/site-packages/langchain_community/utilities/duckduckgo_search.py:64: UserWarning: backend='api' is deprecated, using backend='auto'\n",
      "  ddgs_gen = ddgs.text(\n"
     ]
    }
   ],
   "source": [
    "searchDuckst = DuckDuckGoSearchResults(api_wrapper=wrapper, max_results=4, output_format=\"json\")\n",
    "ret = searchDuckst.invoke(\"Hong kong Weather\")"
   ]
  },
  {
   "cell_type": "code",
   "execution_count": 54,
   "metadata": {},
   "outputs": [
    {
     "data": {
      "text/markdown": [
       "[snippet: Live weather reports from Hong Kong weather stations and weather warnings that include risk of thunder, high UV index and forecast gales. See the links below the 12-day Hong Kong weather forecast table for other cities and towns nearby along with weather conditions for local outdoor activities., title: Hong Kong Weather Forecast, link: https://www.weather-forecast.com/locations/Hong-Kong/forecasts/latest], [snippet: In Hong Kong, for the rest of Friday, a primarily cloudless sky is expected. The lowest forecasted temperature is a moderate 14°C (57.2°F). Sunrise was at 07:02 and sunset at 17:53; the daylight lasted for 10h and 51min., title: Weather today - Hong Kong, Hong Kong, link: https://www.weather-atlas.com/en/hong-kong/hong-kong], [snippet: Hong Kong Weather Forecasts. Weather Underground provides local & long-range weather forecasts, weatherreports, maps & tropical weather conditions for the Hong Kong area., title: Hong Kong, People's Republic of China Weather Conditions, link: https://www.wunderground.com/weather/22.28552,114.15769], [snippet: Hong Kong - Weather forecast from Theweather.com. Weather conditions with updates on temperature, humidity, wind speed, snow, pressure, etc. for Hong Kong, Hong Kong, title: Hong Kong Weather 14 days - Meteored, link: https://www.theweather.com/hong-kong_in-hong-kong-c13175.htm]"
      ],
      "text/plain": [
       "<IPython.core.display.Markdown object>"
      ]
     },
     "execution_count": 54,
     "metadata": {},
     "output_type": "execute_result"
    }
   ],
   "source": [
    "Markdown(ret)"
   ]
  },
  {
   "cell_type": "markdown",
   "metadata": {},
   "source": []
  },
  {
   "cell_type": "code",
   "execution_count": 74,
   "metadata": {},
   "outputs": [],
   "source": [
    "getList=  ret.split(\"[\")[1:]"
   ]
  },
  {
   "cell_type": "code",
   "execution_count": 75,
   "metadata": {},
   "outputs": [
    {
     "data": {
      "text/plain": [
       "['snippet: Live weather reports from Hong Kong weather stations and weather warnings that include risk of thunder, high UV index and forecast gales. See the links below the 12-day Hong Kong weather forecast table for other cities and towns nearby along with weather conditions for local outdoor activities., title: Hong Kong Weather Forecast, link: https://www.weather-forecast.com/locations/Hong-Kong/forecasts/latest], ',\n",
       " 'snippet: In Hong Kong, for the rest of Friday, a primarily cloudless sky is expected. The lowest forecasted temperature is a moderate 14°C (57.2°F). Sunrise was at 07:02 and sunset at 17:53; the daylight lasted for 10h and 51min., title: Weather today - Hong Kong, Hong Kong, link: https://www.weather-atlas.com/en/hong-kong/hong-kong], ',\n",
       " \"snippet: Hong Kong Weather Forecasts. Weather Underground provides local & long-range weather forecasts, weatherreports, maps & tropical weather conditions for the Hong Kong area., title: Hong Kong, People's Republic of China Weather Conditions, link: https://www.wunderground.com/weather/22.28552,114.15769], \",\n",
       " 'snippet: Hong Kong - Weather forecast from Theweather.com. Weather conditions with updates on temperature, humidity, wind speed, snow, pressure, etc. for Hong Kong, Hong Kong, title: Hong Kong Weather 14 days - Meteored, link: https://www.theweather.com/hong-kong_in-hong-kong-c13175.htm]']"
      ]
     },
     "execution_count": 75,
     "metadata": {},
     "output_type": "execute_result"
    }
   ],
   "source": [
    "getList"
   ]
  },
  {
   "cell_type": "code",
   "execution_count": null,
   "metadata": {},
   "outputs": [],
   "source": [
    "# remove the last character of each element in the list\n",
    "for i, v in enumerate(getList):\n",
    "    getList[i] = v.split(\"]\")[0]"
   ]
  },
  {
   "cell_type": "code",
   "execution_count": 77,
   "metadata": {},
   "outputs": [
    {
     "data": {
      "text/plain": [
       "['snippet: Live weather reports from Hong Kong weather stations and weather warnings that include risk of thunder, high UV index and forecast gales. See the links below the 12-day Hong Kong weather forecast table for other cities and towns nearby along with weather conditions for local outdoor activities., title: Hong Kong Weather Forecast, link: https://www.weather-forecast.com/locations/Hong-Kong/forecasts/latest',\n",
       " 'snippet: In Hong Kong, for the rest of Friday, a primarily cloudless sky is expected. The lowest forecasted temperature is a moderate 14°C (57.2°F). Sunrise was at 07:02 and sunset at 17:53; the daylight lasted for 10h and 51min., title: Weather today - Hong Kong, Hong Kong, link: https://www.weather-atlas.com/en/hong-kong/hong-kong',\n",
       " \"snippet: Hong Kong Weather Forecasts. Weather Underground provides local & long-range weather forecasts, weatherreports, maps & tropical weather conditions for the Hong Kong area., title: Hong Kong, People's Republic of China Weather Conditions, link: https://www.wunderground.com/weather/22.28552,114.15769\",\n",
       " 'snippet: Hong Kong - Weather forecast from Theweather.com. Weather conditions with updates on temperature, humidity, wind speed, snow, pressure, etc. for Hong Kong, Hong Kong, title: Hong Kong Weather 14 days - Meteored, link: https://www.theweather.com/hong-kong_in-hong-kong-c13175.htm']"
      ]
     },
     "execution_count": 77,
     "metadata": {},
     "output_type": "execute_result"
    }
   ],
   "source": [
    "getList"
   ]
  },
  {
   "cell_type": "code",
   "execution_count": 91,
   "metadata": {},
   "outputs": [],
   "source": [
    "idxsnippet = getList[0].find(\"snippet:\")\n",
    "idxtitle = getList[0].find(\"title:\")\n",
    "idxlink = getList[0].find(\"link:\")\n",
    "# url= getList[0][idx+5:]"
   ]
  },
  {
   "cell_type": "code",
   "execution_count": 92,
   "metadata": {},
   "outputs": [
    {
     "data": {
      "text/plain": [
       "(0, 306, 341)"
      ]
     },
     "execution_count": 92,
     "metadata": {},
     "output_type": "execute_result"
    }
   ],
   "source": []
  },
  {
   "cell_type": "markdown",
   "metadata": {},
   "source": [
    "## Convert DuckDuckGo search results Into Dictionary format, easy to retrieve the results"
   ]
  },
  {
   "cell_type": "code",
   "execution_count": 104,
   "metadata": {},
   "outputs": [],
   "source": [
    "def convertToDict(listData):\n",
    "    dictData = {}\n",
    "    for i, v in enumerate(listData):\n",
    "        idxsnippet = v.find(\"snippet:\")\n",
    "        idxtitle = v.find(\"title:\")\n",
    "        idxlink = v.find(\"link:\")\n",
    "        snippet= v[idxsnippet+8:idxtitle -2]\n",
    "        title= v[idxtitle+6:idxlink-2]\n",
    "        url= v[idxlink+5:]\n",
    "        dictData[i] = {\"title\": title, \"snippet\": snippet, \"url\": url}\n",
    "    return dictData"
   ]
  },
  {
   "cell_type": "code",
   "execution_count": 108,
   "metadata": {},
   "outputs": [
    {
     "data": {
      "text/plain": [
       "{0: {'title': ' Hong Kong Weather Forecast',\n",
       "  'snippet': ' Live weather reports from Hong Kong weather stations and weather warnings that include risk of thunder, high UV index and forecast gales. See the links below the 12-day Hong Kong weather forecast table for other cities and towns nearby along with weather conditions for local outdoor activities.',\n",
       "  'url': ' https://www.weather-forecast.com/locations/Hong-Kong/forecasts/latest'},\n",
       " 1: {'title': ' Weather today - Hong Kong, Hong Kong',\n",
       "  'snippet': ' In Hong Kong, for the rest of Friday, a primarily cloudless sky is expected. The lowest forecasted temperature is a moderate 14°C (57.2°F). Sunrise was at 07:02 and sunset at 17:53; the daylight lasted for 10h and 51min.',\n",
       "  'url': ' https://www.weather-atlas.com/en/hong-kong/hong-kong'},\n",
       " 2: {'title': \" Hong Kong, People's Republic of China Weather Conditions\",\n",
       "  'snippet': ' Hong Kong Weather Forecasts. Weather Underground provides local & long-range weather forecasts, weatherreports, maps & tropical weather conditions for the Hong Kong area.',\n",
       "  'url': ' https://www.wunderground.com/weather/22.28552,114.15769'},\n",
       " 3: {'title': ' Hong Kong Weather 14 days - Meteored',\n",
       "  'snippet': ' Hong Kong - Weather forecast from Theweather.com. Weather conditions with updates on temperature, humidity, wind speed, snow, pressure, etc. for Hong Kong, Hong Kong',\n",
       "  'url': ' https://www.theweather.com/hong-kong_in-hong-kong-c13175.htm'}}"
      ]
     },
     "execution_count": 108,
     "metadata": {},
     "output_type": "execute_result"
    }
   ],
   "source": [
    "rstDict= convertToDict(getList)\n",
    "rstDict"
   ]
  },
  {
   "cell_type": "code",
   "execution_count": 109,
   "metadata": {},
   "outputs": [
    {
     "data": {
      "text/plain": [
       "4"
      ]
     },
     "execution_count": 109,
     "metadata": {},
     "output_type": "execute_result"
    }
   ],
   "source": [
    "len(rstDict)"
   ]
  },
  {
   "cell_type": "code",
   "execution_count": 113,
   "metadata": {},
   "outputs": [
    {
     "data": {
      "text/plain": [
       "' https://www.theweather.com/hong-kong_in-hong-kong-c13175.htm'"
      ]
     },
     "execution_count": 113,
     "metadata": {},
     "output_type": "execute_result"
    }
   ],
   "source": [
    "rstDict[3][\"url\"]"
   ]
  },
  {
   "cell_type": "code",
   "execution_count": null,
   "metadata": {},
   "outputs": [],
   "source": []
  },
  {
   "cell_type": "code",
   "execution_count": null,
   "metadata": {},
   "outputs": [],
   "source": [
    "### "
   ]
  },
  {
   "cell_type": "code",
   "execution_count": null,
   "metadata": {},
   "outputs": [],
   "source": []
  }
 ],
 "metadata": {
  "kernelspec": {
   "display_name": "Python 3",
   "language": "python",
   "name": "python3"
  },
  "language_info": {
   "codemirror_mode": {
    "name": "ipython",
    "version": 3
   },
   "file_extension": ".py",
   "mimetype": "text/x-python",
   "name": "python",
   "nbconvert_exporter": "python",
   "pygments_lexer": "ipython3",
   "version": "3.10.12"
  }
 },
 "nbformat": 4,
 "nbformat_minor": 2
}
